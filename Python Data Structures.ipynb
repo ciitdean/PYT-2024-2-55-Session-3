{
 "cells": [
  {
   "cell_type": "markdown",
   "metadata": {},
   "source": [
    "# Lists"
   ]
  },
  {
   "cell_type": "code",
   "execution_count": 3,
   "metadata": {},
   "outputs": [
    {
     "name": "stdout",
     "output_type": "stream",
     "text": [
      "List of integers: [1, 2, 3, 4, 5]\n",
      "List of strings: ['apple', 'banana', 'orange', 'grape', 'kiwi']\n",
      "List of mixed data types: [10, 'hello', 3.14, True, [1, 2, 3]]\n",
      "List of lists (nested list): [[1, 2, 3], [4, 5, 6], [7, 8, 9]]\n",
      "Empty list: []\n"
     ]
    }
   ],
   "source": [
    "# List of integers\n",
    "numbers = [1, 2, 3, 4, 5]\n",
    "\n",
    "# List of strings\n",
    "fruits = ['apple', 'banana', 'orange', 'grape', 'kiwi']\n",
    "\n",
    "# List of mixed data types\n",
    "mixed_list = [10, 'hello', 3.14, True, [1, 2, 3]]\n",
    "\n",
    "# List of lists (nested list)\n",
    "matrix = [[1, 2, 3], [4, 5, 6], [7, 8, 9]]\n",
    "\n",
    "# Empty list\n",
    "empty_list = []\n",
    "\n",
    "# Printing all lists\n",
    "print(\"List of integers:\", numbers)\n",
    "print(\"List of strings:\", fruits)\n",
    "print(\"List of mixed data types:\", mixed_list)\n",
    "print(\"List of lists (nested list):\", matrix)\n",
    "print(\"Empty list:\", empty_list)\n"
   ]
  },
  {
   "cell_type": "code",
   "execution_count": 4,
   "metadata": {},
   "outputs": [
    {
     "name": "stdout",
     "output_type": "stream",
     "text": [
      "['cat', 'bat', 'elephant']\n",
      "['cat', 'bat']\n"
     ]
    }
   ],
   "source": [
    "# Creating the list\n",
    "spam = ['cat', 'bat', 'rat', 'elephant']\n",
    "\n",
    "# Deleting the element at index 2 (which is 'rat')\n",
    "del spam[2]\n",
    "print(spam)  # Output: ['cat', 'bat', 'elephant']\n",
    "\n",
    "# Deleting the element at index 2 again (which is now 'elephant')\n",
    "del spam[2]\n",
    "print(spam)  # Output: ['cat', 'bat']"
   ]
  },
  {
   "cell_type": "code",
   "execution_count": 5,
   "metadata": {},
   "outputs": [
    {
     "name": "stdout",
     "output_type": "stream",
     "text": [
      "['cat', 'dog', 'bat', 'moose']\n"
     ]
    }
   ],
   "source": [
    "# Creating the list\n",
    "spam = ['cat', 'dog', 'bat']\n",
    "\n",
    "# Appending 'moose' to the list\n",
    "spam.append('moose')\n",
    "print(spam)  # Output: ['cat', 'dog', 'bat', 'moose']"
   ]
  },
  {
   "cell_type": "code",
   "execution_count": 6,
   "metadata": {},
   "outputs": [
    {
     "name": "stdout",
     "output_type": "stream",
     "text": [
      "['bat', 'rat', 'cat', 'hat', 'cat']\n"
     ]
    }
   ],
   "source": [
    "# Creating the list\n",
    "spam = ['cat', 'bat', 'rat', 'cat', 'hat', 'cat']\n",
    "\n",
    "# Removing the first occurrence of 'cat' from the list\n",
    "spam.remove('cat')\n",
    "print(spam)  # Output: ['bat', 'rat', 'cat', 'hat', 'cat']\n"
   ]
  },
  {
   "cell_type": "code",
   "execution_count": 7,
   "metadata": {},
   "outputs": [
    {
     "name": "stdout",
     "output_type": "stream",
     "text": [
      "0\n",
      "3\n",
      "'howdy howdy howdy' is not in list\n"
     ]
    }
   ],
   "source": [
    "# Creating the list\n",
    "spam = ['hello', 'hi', 'howdy', 'heyas']\n",
    "\n",
    "# Finding the index of 'hello'\n",
    "print(spam.index('hello'))  # Output: 0\n",
    "\n",
    "# Finding the index of 'heyas'\n",
    "print(spam.index('heyas'))  # Output: 3\n",
    "\n",
    "# Attempting to find the index of 'howdy howdy howdy' (which is not in the list)\n",
    "try:\n",
    "    print(spam.index('howdy howdy howdy'))\n",
    "except ValueError as e:\n",
    "    print(e)\n"
   ]
  },
  {
   "cell_type": "code",
   "execution_count": 8,
   "metadata": {},
   "outputs": [
    {
     "name": "stdout",
     "output_type": "stream",
     "text": [
      "[-7, 1, 2, 3.14, 5]\n",
      "['ants', 'badgers', 'cats', 'dogs', 'elephants']\n",
      "['elephants', 'dogs', 'cats', 'badgers', 'ants']\n",
      "'<' not supported between instances of 'str' and 'int'\n",
      "['Alice', 'Bob', 'Carol', 'ants', 'badgers', 'cats']\n",
      "['a', 'A', 'z', 'Z']\n"
     ]
    }
   ],
   "source": [
    "# Sorting a list of numbers\n",
    "spam = [2, 5, 3.14, 1, -7]\n",
    "spam.sort()\n",
    "print(spam)  # Output: [-7, 1, 2, 3.14, 5]\n",
    "\n",
    "# Sorting a list of strings\n",
    "spam = ['ants', 'cats', 'dogs', 'badgers', 'elephants']\n",
    "spam.sort()\n",
    "print(spam)  # Output: ['ants', 'badgers', 'cats', 'dogs', 'elephants']\n",
    "\n",
    "# Sorting the list in reverse order\n",
    "spam.sort(reverse=True)\n",
    "print(spam)  # Output: ['elephants', 'dogs', 'cats', 'badgers', 'ants']\n",
    "\n",
    "# Attempting to sort a list with mixed data types\n",
    "try:\n",
    "    spam = [1, 3, 2, 4, 'Alice', 'Bob']\n",
    "    spam.sort()\n",
    "except TypeError as e:\n",
    "    print(e)  # Output: unorderable types: str() < int()\n",
    "\n",
    "# Sorting a list of strings ignoring case\n",
    "spam = ['Alice', 'ants', 'Bob', 'badgers', 'Carol', 'cats']\n",
    "spam.sort()\n",
    "print(spam)  # Output: ['Alice', 'Bob', 'Carol', 'ants', 'badgers', 'cats']\n",
    "\n",
    "# Sorting a list of strings ignoring case using str.lower\n",
    "spam = ['a', 'z', 'A', 'Z']\n",
    "spam.sort(key=str.lower)\n",
    "print(spam)  # Output: ['a', 'A', 'z', 'Z']\n"
   ]
  },
  {
   "cell_type": "code",
   "execution_count": 9,
   "metadata": {},
   "outputs": [
    {
     "name": "stdout",
     "output_type": "stream",
     "text": [
      "'str' object does not support item assignment\n",
      "Zophie a cat\n",
      "Zophie the cat\n"
     ]
    }
   ],
   "source": [
    "# Attempting to mutate a string\n",
    "name = 'Zophie a cat'\n",
    "try:\n",
    "    name[7] = 'the'\n",
    "except TypeError as e:\n",
    "    print(e)  # Output: 'str' object does not support item assignment\n",
    "\n",
    "# Mutating a string using slicing and concatenation\n",
    "name = 'Zophie a cat'\n",
    "newName = name[0:7] + 'the' + name[8:12]\n",
    "print(name)     # Output: 'Zophie a cat'\n",
    "print(newName)  # Output: 'Zophie the cat'"
   ]
  },
  {
   "cell_type": "code",
   "execution_count": 10,
   "metadata": {},
   "outputs": [
    {
     "name": "stdout",
     "output_type": "stream",
     "text": [
      "[4, 5, 6]\n",
      "[4, 5, 6]\n"
     ]
    }
   ],
   "source": [
    "\n",
    "# Demonstrating list mutability\n",
    "eggs = [1, 2, 3]\n",
    "eggs = [4, 5, 6]\n",
    "print(eggs)  # Output: [4, 5, 6]\n",
    "\n",
    "# Modifying the original list in eggs\n",
    "eggs = [1, 2, 3]\n",
    "del eggs[2]\n",
    "del eggs[1]\n",
    "del eggs[0]\n",
    "eggs.append(4)\n",
    "eggs.append(5)\n",
    "eggs.append(6)\n",
    "print(eggs)  # Output: [4, 5, 6]\n"
   ]
  },
  {
   "cell_type": "code",
   "execution_count": 11,
   "metadata": {},
   "outputs": [
    {
     "name": "stdout",
     "output_type": "stream",
     "text": [
      "False\n",
      "True\n"
     ]
    }
   ],
   "source": [
    "# Comparing two lists\n",
    "spam = ['cats', 'dogs', 'moose']\n",
    "bacon = ['dogs', 'moose', 'cats']\n",
    "print(spam == bacon)  # Output: False\n",
    "\n",
    "# Comparing two dictionaries\n",
    "eggs = {'name': 'Zophie', 'species': 'cat', 'age': '8'}\n",
    "ham = {'species': 'cat', 'age': '8', 'name': 'Zophie'}\n",
    "print(eggs == ham)  # Output: True\n"
   ]
  },
  {
   "cell_type": "markdown",
   "metadata": {},
   "source": [
    "# Tuples\n"
   ]
  },
  {
   "cell_type": "code",
   "execution_count": 4,
   "metadata": {},
   "outputs": [
    {
     "name": "stdout",
     "output_type": "stream",
     "text": [
      "First element: hello\n",
      "Sub-tuple (index 1 to 2): (42, 0.5)\n",
      "Length of tuple: 3\n"
     ]
    }
   ],
   "source": [
    "# Defining a tuple named 'eggs'\n",
    "eggs = ('hello', 42, 0.5)\n",
    "\n",
    "# Accessing the first element of the tuple and printing it\n",
    "element_zero = eggs[0]\n",
    "print(\"First element:\", element_zero)  # 'hello'\n",
    "\n",
    "# Slicing the tuple to get elements from index 1 to 2 and printing the sub-tuple\n",
    "sub_tuple = eggs[1:3]\n",
    "print(\"Sub-tuple (index 1 to 2):\", sub_tuple)  # (42, 0.5)\n",
    "\n",
    "# Finding the length of the tuple and printing it\n",
    "length_of_eggs = len(eggs)\n",
    "print(\"Length of tuple:\", length_of_eggs)  # 3"
   ]
  },
  {
   "cell_type": "code",
   "execution_count": 6,
   "metadata": {},
   "outputs": [
    {
     "data": {
      "text/plain": [
       "tuple"
      ]
     },
     "execution_count": 6,
     "metadata": {},
     "output_type": "execute_result"
    }
   ],
   "source": [
    "type(('hello',))"
   ]
  },
  {
   "cell_type": "code",
   "execution_count": 7,
   "metadata": {},
   "outputs": [
    {
     "data": {
      "text/plain": [
       "str"
      ]
     },
     "execution_count": 7,
     "metadata": {},
     "output_type": "execute_result"
    }
   ],
   "source": [
    "type(('hello'))"
   ]
  },
  {
   "cell_type": "code",
   "execution_count": 9,
   "metadata": {},
   "outputs": [
    {
     "name": "stdout",
     "output_type": "stream",
     "text": [
      "List to tuple: ('cat', 'dog', 5)\n",
      "Tuple to list: ['cat', 'dog', 5]\n",
      "String to list: ['h', 'e', 'l', 'l', 'o']\n"
     ]
    }
   ],
   "source": [
    "# Converting a list to a tuple\n",
    "# The list contains a mix of string and integer elements\n",
    "converted_tuple = tuple(['cat', 'dog', 5])\n",
    "print(\"List to tuple:\", converted_tuple)  # Output: ('cat', 'dog', 5)\n",
    "\n",
    "# Converting a tuple to a list\n",
    "# The tuple contains a mix of string and integer elements\n",
    "converted_list = list(('cat', 'dog', 5))\n",
    "print(\"Tuple to list:\", converted_list)  # Output: ['cat', 'dog', 5]\n",
    "\n",
    "# Converting a string to a list\n",
    "# This will create a list where each character in the string becomes an element of the list\n",
    "list_from_string = list('hello')\n",
    "print(\"String to list:\", list_from_string)  # Output: ['h', 'e', 'l', 'l', 'o']"
   ]
  },
  {
   "cell_type": "markdown",
   "metadata": {},
   "source": [
    "# References"
   ]
  },
  {
   "cell_type": "code",
   "execution_count": 10,
   "metadata": {},
   "outputs": [
    {
     "name": "stdout",
     "output_type": "stream",
     "text": [
      "Initial value of spam: 42\n",
      "Value of cheese after assignment: 42\n",
      "New value of spam after modification: 100\n",
      "Value of cheese after modifying spam: 42\n"
     ]
    }
   ],
   "source": [
    "# Assigning a value to the variable 'spam'\n",
    "spam = 42\n",
    "print(\"Initial value of spam:\", spam)  # Output: 42\n",
    "\n",
    "# Assigning the value of 'spam' to another variable 'cheese'\n",
    "cheese = spam\n",
    "print(\"Value of cheese after assignment:\", cheese)  # Output: 42\n",
    "\n",
    "# Changing the value of 'spam'\n",
    "spam = 100\n",
    "print(\"New value of spam after modification:\", spam)  # Output: 100\n",
    "\n",
    "# Checking the value of 'cheese' after modifying 'spam'\n",
    "# 'cheese' remains unchanged because it holds the value that 'spam' had at the time of assignment\n",
    "print(\"Value of cheese after modifying spam:\", cheese)  # Output: 42\n"
   ]
  },
  {
   "cell_type": "code",
   "execution_count": 11,
   "metadata": {},
   "outputs": [
    {
     "name": "stdout",
     "output_type": "stream",
     "text": [
      "Initial list in spam: [0, 1, 2, 3, 4, 5]\n",
      "Initial list in cheese (same as spam): [0, 1, 2, 3, 4, 5]\n",
      "Modified list in cheese: [0, 'Hello!', 2, 3, 4, 5]\n",
      "List in spam after modifying through cheese: [0, 'Hello!', 2, 3, 4, 5]\n"
     ]
    }
   ],
   "source": [
    "# Assigning a list to the variable 'spam'\n",
    "spam = [0, 1, 2, 3, 4, 5]\n",
    "print(\"Initial list in spam:\", spam)\n",
    "\n",
    "# Assigning the reference of the list in 'spam' to 'cheese'\n",
    "cheese = spam\n",
    "print(\"Initial list in cheese (same as spam):\", cheese)\n",
    "\n",
    "# Modifying the list through 'cheese'\n",
    "cheese[1] = 'Hello!'\n",
    "print(\"Modified list in cheese:\", cheese)\n",
    "\n",
    "# The list in 'spam' also shows the updated list\n",
    "# This is because 'cheese' and 'spam' are referencing the same list in memory\n",
    "print(\"List in spam after modifying through cheese:\", spam)\n"
   ]
  },
  {
   "cell_type": "code",
   "execution_count": 12,
   "metadata": {},
   "outputs": [
    {
     "name": "stdout",
     "output_type": "stream",
     "text": [
      "Initial list in spam: [0, 1, 2, 3, 4, 5]\n",
      "Initial list in cheese (same as spam): [0, 1, 2, 3, 4, 5]\n",
      "Modified list in cheese: [0, 'Hello!', 2, 3, 4, 5]\n",
      "List in spam after modifying through cheese: [0, 'Hello!', 2, 3, 4, 5]\n"
     ]
    }
   ],
   "source": [
    "# Assigning a list to the variable 'spam'\n",
    "spam = [0, 1, 2, 3, 4, 5]\n",
    "print(\"Initial list in spam:\", spam)\n",
    "\n",
    "# Assigning the reference of the list in 'spam' to 'cheese'\n",
    "cheese = spam\n",
    "print(\"Initial list in cheese (same as spam):\", cheese)\n",
    "\n",
    "# Modifying the list through 'cheese'\n",
    "cheese[1] = 'Hello!'\n",
    "print(\"Modified list in cheese:\", cheese)\n",
    "\n",
    "# The list in 'spam' also shows the updated list\n",
    "# This is because 'cheese' and 'spam' are referencing the same list in memory\n",
    "print(\"List in spam after modifying through cheese:\", spam)\n"
   ]
  },
  {
   "cell_type": "code",
   "execution_count": 13,
   "metadata": {},
   "outputs": [
    {
     "name": "stdout",
     "output_type": "stream",
     "text": [
      "Initial list in spam: ['A', 'B', 'C', 'D']\n",
      "Initial list in cheese (shallow copy of spam): ['A', 'B', 'C', 'D']\n",
      "Modified list in cheese: ['A', 42, 'C', 'D']\n",
      "List in spam after modifying cheese: ['A', 'B', 'C', 'D']\n"
     ]
    }
   ],
   "source": [
    "import copy\n",
    "\n",
    "# Assigning a list to the variable 'spam'\n",
    "spam = ['A', 'B', 'C', 'D']\n",
    "print(\"Initial list in spam:\", spam)\n",
    "\n",
    "# Creating a shallow copy of 'spam' and assigning it to 'cheese'\n",
    "cheese = copy.copy(spam)\n",
    "print(\"Initial list in cheese (shallow copy of spam):\", cheese)\n",
    "\n",
    "# Modifying the list 'cheese'\n",
    "cheese[1] = 42\n",
    "print(\"Modified list in cheese:\", cheese)\n",
    "\n",
    "# The list in 'spam' remains unchanged\n",
    "# This is because 'cheese' is a shallow copy of 'spam' and thus a different list\n",
    "print(\"List in spam after modifying cheese:\", spam)\n"
   ]
  },
  {
   "cell_type": "markdown",
   "metadata": {},
   "source": [
    "# Dictionary"
   ]
  },
  {
   "cell_type": "code",
   "execution_count": 14,
   "metadata": {},
   "outputs": [
    {
     "name": "stdout",
     "output_type": "stream",
     "text": [
      "Dictionary: {'size': 'fat', 'color': 'gray', 'disposition': 'loud'}\n",
      "Value of key 'size': fat\n",
      "Constructed string: My cat has gray fur.\n"
     ]
    }
   ],
   "source": [
    "# Creating a dictionary with key-value pairs\n",
    "myCat = {'size': 'fat', 'color': 'gray', 'disposition': 'loud'}\n",
    "print(\"Dictionary:\", myCat)\n",
    "\n",
    "# Accessing the value associated with the key 'size'\n",
    "size = myCat['size']\n",
    "print(\"Value of key 'size':\", size)  # Output: 'fat'\n",
    "\n",
    "# Constructing a string using concatenation and accessing the 'color' value from the dictionary\n",
    "cat_description = 'My cat has ' + myCat['color'] + ' fur.'\n",
    "print(\"Constructed string:\", cat_description)  # Output: 'My cat has gray fur.'\n"
   ]
  },
  {
   "cell_type": "code",
   "execution_count": 15,
   "metadata": {},
   "outputs": [
    {
     "name": "stdout",
     "output_type": "stream",
     "text": [
      "Are spam and bacon equal (list comparison): False\n",
      "Are eggs and ham equal (dictionary comparison): True\n"
     ]
    }
   ],
   "source": [
    "# Creating two lists with the same elements in different order\n",
    "spam = ['cats', 'dogs', 'moose']\n",
    "bacon = ['dogs', 'moose', 'cats']\n",
    "\n",
    "# Comparing the two lists\n",
    "are_lists_equal = spam == bacon\n",
    "print(\"Are spam and bacon equal (list comparison):\", are_lists_equal)  # Output: False\n",
    "\n",
    "# Creating two dictionaries with the same key-value pairs but in different order\n",
    "eggs = {'name': 'Zophie', 'species': 'cat', 'age': '8'}\n",
    "ham = {'species': 'cat', 'age': '8', 'name': 'Zophie'}\n",
    "\n",
    "# Comparing the two dictionaries\n",
    "are_dicts_equal = eggs == ham\n",
    "print(\"Are eggs and ham equal (dictionary comparison):\", are_dicts_equal)  # Output: True"
   ]
  },
  {
   "cell_type": "code",
   "execution_count": 16,
   "metadata": {},
   "outputs": [
    {
     "name": "stdout",
     "output_type": "stream",
     "text": [
      "Enter a name: (blank to quit)\n"
     ]
    }
   ],
   "source": [
    "# Dictionary containing birthday data\n",
    "birthdays = {'Alice': 'Apr 1', 'Bob': 'Dec 12', 'Carol': 'Mar 4'}\n",
    "\n",
    "while True:\n",
    "    print('Enter a name: (blank to quit)')\n",
    "    name = input()\n",
    "    \n",
    "    # Break the loop if the input is blank\n",
    "    if name == '':\n",
    "        break\n",
    "    \n",
    "    # Check if the name is in the birthday dictionary\n",
    "    if name in birthdays:\n",
    "        # Print the birthday of the entered name\n",
    "        print(birthdays[name] + ' is the birthday of ' + name)\n",
    "    else:\n",
    "        # Ask for the birthday of the name not in the dictionary\n",
    "        print('I do not have birthday information for ' + name)\n",
    "        print('What is their birthday?')\n",
    "        bday = input()\n",
    "        \n",
    "        # Update the dictionary with the new name and birthday\n",
    "        birthdays[name] = bday\n",
    "        print('Birthday database updated.')\n"
   ]
  },
  {
   "cell_type": "code",
   "execution_count": 17,
   "metadata": {},
   "outputs": [
    {
     "name": "stdout",
     "output_type": "stream",
     "text": [
      "Keys: dict_keys(['name', 'age', 'city'])\n",
      "Values: dict_values(['Alice', 30, 'New York'])\n",
      "Items: dict_items([('name', 'Alice'), ('age', 30), ('city', 'New York')])\n"
     ]
    }
   ],
   "source": [
    "# Example dictionary for demonstration\n",
    "example_dict = {'name': 'Alice', 'age': 30, 'city': 'New York'}\n",
    "\n",
    "# Using the keys() method to get all keys of the dictionary\n",
    "keys = example_dict.keys()\n",
    "print(\"Keys:\", keys)  # Outputs all keys in the dictionary\n",
    "\n",
    "# Using the values() method to get all values of the dictionary\n",
    "values = example_dict.values()\n",
    "print(\"Values:\", values)  # Outputs all values in the dictionary\n",
    "\n",
    "# Using the items() method to get all key-value pairs of the dictionary\n",
    "items = example_dict.items()\n",
    "print(\"Items:\", items)  # Outputs all key-value pairs in the dictionary\n"
   ]
  },
  {
   "cell_type": "code",
   "execution_count": 19,
   "metadata": {},
   "outputs": [
    {
     "name": "stdout",
     "output_type": "stream",
     "text": [
      "Name: Alice\n",
      "Occupation: None\n",
      "Hobby: Unknown\n"
     ]
    }
   ],
   "source": [
    "# Example dictionary for demonstration\n",
    "example_dict = {'name': 'Alice', 'age': 30, 'city': 'New York'}\n",
    "\n",
    "# Using the get() method to retrieve a value\n",
    "name = example_dict.get('name')\n",
    "print(\"Name:\", name)  # Outputs the value associated with the key 'name'\n",
    "\n",
    "# Using the get() method with a key that doesn't exist in the dictionary\n",
    "# This will return None by default\n",
    "occupation = example_dict.get('occupation')\n",
    "print(\"Occupation:\", occupation)  # Outputs None\n",
    "\n",
    "# Using the get() method with a non-existent key and a default value\n",
    "# This will return the specified default value ('Unknown' in this case)\n",
    "hobby = example_dict.get('hobby', 'Unknown')\n",
    "print(\"Hobby:\", hobby)  # Outputs 'Unknown'\n"
   ]
  },
  {
   "cell_type": "code",
   "execution_count": 20,
   "metadata": {},
   "outputs": [
    {
     "name": "stdout",
     "output_type": "stream",
     "text": [
      "Initial dictionary: {'name': 'Pooka', 'age': 5}\n",
      "Returned value after setdefault: black\n",
      "Dictionary after setdefault: {'name': 'Pooka', 'age': 5, 'color': 'black'}\n",
      "Returned value after second setdefault: black\n",
      "Dictionary remains unchanged: {'name': 'Pooka', 'age': 5, 'color': 'black'}\n"
     ]
    }
   ],
   "source": [
    "# Creating a dictionary\n",
    "spam = {'name': 'Pooka', 'age': 5}\n",
    "print(\"Initial dictionary:\", spam)\n",
    "\n",
    "# Using setdefault to add a new key-value pair ('color', 'black')\n",
    "# Since 'color' is not already in the dictionary, it will add this key-value pair\n",
    "spam_color = spam.setdefault('color', 'black')\n",
    "print(\"Returned value after setdefault:\", spam_color)\n",
    "print(\"Dictionary after setdefault:\", spam)\n",
    "\n",
    "# Using setdefault again with the 'color' key, which already exists\n",
    "# Since 'color' is already in the dictionary, it won't change its value\n",
    "spam_color_again = spam.setdefault('color', 'white')\n",
    "print(\"Returned value after second setdefault:\", spam_color_again)\n",
    "print(\"Dictionary remains unchanged:\", spam)"
   ]
  },
  {
   "cell_type": "code",
   "execution_count": 21,
   "metadata": {},
   "outputs": [
    {
     "name": "stdout",
     "output_type": "stream",
     "text": [
      "Using get(): default\n",
      "Dictionary after get(): {'a': 1, 'b': 2}\n",
      "Using setdefault(): default\n",
      "Dictionary after setdefault(): {'a': 1, 'b': 2, 'c': 'default'}\n"
     ]
    }
   ],
   "source": [
    "# Example dictionary\n",
    "my_dict = {'a': 1, 'b': 2}\n",
    "\n",
    "# Using get() method\n",
    "# Tries to get the value of 'c'. Since 'c' isn't in the dictionary, it returns 'default' but doesn't modify the dictionary\n",
    "value_get = my_dict.get('c', 'default')\n",
    "print(\"Using get():\", value_get)\n",
    "print(\"Dictionary after get():\", my_dict)\n",
    "\n",
    "# Using setdefault() method\n",
    "# Tries to set the value of 'c' to 'default'. Since 'c' isn't in the dictionary, it adds 'c' with the value 'default'\n",
    "value_setdefault = my_dict.setdefault('c', 'default')\n",
    "print(\"Using setdefault():\", value_setdefault)\n",
    "print(\"Dictionary after setdefault():\", my_dict)"
   ]
  },
  {
   "cell_type": "code",
   "execution_count": 22,
   "metadata": {},
   "outputs": [
    {
     "name": "stdout",
     "output_type": "stream",
     "text": [
      "1 2 3 \n",
      "4 5 6 \n",
      "a 8 9 \n",
      "Modified nested list: [[1, 2, 3], [4, 5, 6], ['a', 8, 9]]\n"
     ]
    }
   ],
   "source": [
    "# Example of a nested list\n",
    "nested_list = [[1, 2, 3], [4, 5, 6], [7, 8, 9]]\n",
    "\n",
    "# Accessing elements in a nested list\n",
    "first_element = nested_list[0]  # Accesses the first sublist: [1, 2, 3]\n",
    "second_element_second_list = nested_list[1][1]  # Accesses the second element of the second sublist: 5\n",
    "\n",
    "# Modifying elements in a nested list\n",
    "nested_list[2][0] = 'a'  # Changes the first element of the third sublist from 7 to 'a'\n",
    "\n",
    "# Iterating over a nested list\n",
    "for sublist in nested_list:\n",
    "    for item in sublist:\n",
    "        print(item, end=' ')  # Prints all elements in nested_list\n",
    "    print()  # Adds a newline after each sublist\n",
    "\n",
    "# Printing the modified nested list\n",
    "print(\"Modified nested list:\", nested_list)"
   ]
  },
  {
   "cell_type": "markdown",
   "metadata": {},
   "source": [
    "# File Handling"
   ]
  },
  {
   "cell_type": "code",
   "execution_count": 23,
   "metadata": {},
   "outputs": [
    {
     "name": "stdout",
     "output_type": "stream",
     "text": [
      "File Content:\n",
      " Hello, World!\n",
      "This is an example of file writing.\n",
      "\n"
     ]
    }
   ],
   "source": [
    "# Writing to a file\n",
    "with open('example.txt', 'w') as file:\n",
    "    file.write('Hello, World!\\n')\n",
    "    file.write('This is an example of file writing.\\n')\n",
    "\n",
    "# Reading from a file\n",
    "with open('example.txt', 'r') as file:\n",
    "    content = file.read()\n",
    "    print(\"File Content:\\n\", content)\n",
    "\n",
    "# This uses the 'with' statement which automatically closes the file after the indented block."
   ]
  },
  {
   "cell_type": "code",
   "execution_count": 3,
   "metadata": {},
   "outputs": [],
   "source": [
    "import csv\n",
    "\n",
    "# Data to be written to the CSV file\n",
    "data = [['Name', 'Age', 'City'], ['Alice', 30, 'New York'], ['Bob', 25, 'London']]\n",
    "\n",
    "# Open the CSV file for writing\n",
    "with open('output.csv', mode='w', newline='', encoding='utf-8') as file:\n",
    "    # Create a CSV writer object\n",
    "    csv_writer = csv.writer(file)\n",
    "\n",
    "    # Write data to the CSV file\n",
    "    for row in data:\n",
    "        csv_writer.writerow(row)"
   ]
  },
  {
   "cell_type": "code",
   "execution_count": 1,
   "metadata": {},
   "outputs": [],
   "source": [
    "import csv\n",
    "\n",
    "# Data to be written to the CSV file\n",
    "data = [\n",
    "    {'Name': 'Alice', 'Age': 30, 'City': 'New York'},\n",
    "    {'Name': 'Bob', 'Age': 25, 'City': 'London'}\n",
    "]\n",
    "\n",
    "# Column headers\n",
    "headers = ['Name', 'Age', 'City']\n",
    "\n",
    "# Open the CSV file for writing\n",
    "with open('output_dict.csv', mode='w', newline='', encoding='utf-8') as file:\n",
    "    # Create a DictWriter object with the specified fieldnames\n",
    "    dict_writer = csv.DictWriter(file, fieldnames=headers)\n",
    "\n",
    "    # Write the header row\n",
    "    dict_writer.writeheader()\n",
    "\n",
    "    # Write data to the CSV file\n",
    "    for row in data:\n",
    "        dict_writer.writerow(row)\n"
   ]
  },
  {
   "cell_type": "code",
   "execution_count": 2,
   "metadata": {},
   "outputs": [
    {
     "name": "stdout",
     "output_type": "stream",
     "text": [
      "['Name', 'Age', 'City']\n",
      "['Alice', '30', 'New York']\n",
      "['Bob', '25', 'London']\n"
     ]
    }
   ],
   "source": [
    "import csv\n",
    "\n",
    "# Open the CSV file\n",
    "with open('output.csv', mode='r', newline='', encoding='utf-8') as file:\n",
    "    # Create a CSV reader object\n",
    "    csv_reader = csv.reader(file)\n",
    "\n",
    "    # Iterate over each row in the CSV file\n",
    "    for row in csv_reader:\n",
    "        print(row)  # Each row is a list of values"
   ]
  },
  {
   "cell_type": "code",
   "execution_count": 2,
   "metadata": {},
   "outputs": [
    {
     "name": "stdout",
     "output_type": "stream",
     "text": [
      "{'Name': 'Alice', 'Age': '30', 'City': 'New York'}\n",
      "{'Name': 'Bob', 'Age': '25', 'City': 'London'}\n"
     ]
    }
   ],
   "source": [
    "import csv\n",
    "\n",
    "# Open the CSV file\n",
    "with open('output.csv', mode='r', newline='', encoding='utf-8') as file:\n",
    "    # Create a DictReader object\n",
    "    dict_reader = csv.DictReader(file)\n",
    "\n",
    "    # Iterate over each row in the CSV file\n",
    "    for row in dict_reader:\n",
    "        print(row)  # Each row is a dictionary with column headers as keys"
   ]
  },
  {
   "cell_type": "code",
   "execution_count": 4,
   "metadata": {},
   "outputs": [
    {
     "name": "stdout",
     "output_type": "stream",
     "text": [
      "Original Data:\n",
      "   id  existing_column\n",
      "0   1               10\n",
      "1   2               20\n",
      "2   3               30\n",
      "3   4               40\n",
      "4   5               50\n"
     ]
    }
   ],
   "source": [
    "import pandas as pd\n",
    "\n",
    "# Read data from a CSV file\n",
    "df = pd.read_csv('example.csv')\n",
    "print(\"Original Data:\")\n",
    "print(df.head())\n",
    "\n",
    "# Manipulate the DataFrame\n",
    "df['new_column'] = df['existing_column'] * 10  # Modify this line as per your CSV structure\n",
    "\n",
    "# Save the modified DataFrame back to a new CSV file\n",
    "df.to_csv('modified_example.csv', index=False)"
   ]
  },
  {
   "cell_type": "markdown",
   "metadata": {},
   "source": [
    "# Error Handling"
   ]
  },
  {
   "cell_type": "code",
   "execution_count": 5,
   "metadata": {},
   "outputs": [
    {
     "name": "stdout",
     "output_type": "stream",
     "text": [
      "That's not a valid number!\n"
     ]
    }
   ],
   "source": [
    "try:\n",
    "    # Code block where you suspect an error might occur\n",
    "    number = int(input(\"Enter a number: \")) # Input \"j\"\n",
    "except ValueError:\n",
    "    # Code block gets executed if an error occurs\n",
    "    print(\"That's not a valid number!\")"
   ]
  },
  {
   "cell_type": "code",
   "execution_count": 9,
   "metadata": {},
   "outputs": [
    {
     "name": "stdout",
     "output_type": "stream",
     "text": [
      "Division by zero is not allowed.\n"
     ]
    }
   ],
   "source": [
    "try:\n",
    "    # Code that can potentially cause more than one type of exception\n",
    "    number = int(input(\"Enter a number: \")) # Input 0\n",
    "    result = 10 / number\n",
    "    print(result)\n",
    "except ValueError:\n",
    "    print(\"Please enter a valid number.\")\n",
    "except ZeroDivisionError:\n",
    "    print(\"Division by zero is not allowed.\")"
   ]
  },
  {
   "cell_type": "code",
   "execution_count": 10,
   "metadata": {},
   "outputs": [
    {
     "name": "stdout",
     "output_type": "stream",
     "text": [
      "You entered 1\n"
     ]
    }
   ],
   "source": [
    "try:\n",
    "    # Code to try\n",
    "    number = int(input(\"Enter a number: \")) # Input 1\n",
    "except ValueError:\n",
    "    # Code to execute if there's a ValueError\n",
    "    print(\"Not a valid number!\")\n",
    "else:\n",
    "    # Code to execute if there's no error\n",
    "    print(f\"You entered {number}\")"
   ]
  },
  {
   "cell_type": "code",
   "execution_count": 12,
   "metadata": {},
   "outputs": [
    {
     "name": "stdout",
     "output_type": "stream",
     "text": [
      "File closed.\n"
     ]
    }
   ],
   "source": [
    "try:\n",
    "    # Try to open and write to a file\n",
    "    file = open(\"testfile.txt\", \"w\")\n",
    "    file.write(\"Hello World\")\n",
    "except IOError:\n",
    "    # Handle file write errors\n",
    "    print(\"Error: Could not write to file.\")\n",
    "finally:\n",
    "    # This block will always be executed\n",
    "    file.close()\n",
    "    print(\"File closed.\")"
   ]
  }
 ],
 "metadata": {
  "kernelspec": {
   "display_name": "Python 3",
   "language": "python",
   "name": "python3"
  },
  "language_info": {
   "codemirror_mode": {
    "name": "ipython",
    "version": 3
   },
   "file_extension": ".py",
   "mimetype": "text/x-python",
   "name": "python",
   "nbconvert_exporter": "python",
   "pygments_lexer": "ipython3",
   "version": "3.11.8"
  }
 },
 "nbformat": 4,
 "nbformat_minor": 2
}
